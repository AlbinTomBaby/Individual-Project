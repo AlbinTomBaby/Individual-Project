{
  "nbformat": 4,
  "nbformat_minor": 0,
  "metadata": {
    "colab": {
      "provenance": []
    },
    "kernelspec": {
      "name": "python3",
      "display_name": "Python 3"
    },
    "language_info": {
      "name": "python"
    }
  },
  "cells": [
    {
      "cell_type": "code",
      "execution_count": 2,
      "metadata": {
        "colab": {
          "base_uri": "https://localhost:8080/",
          "height": 398
        },
        "id": "ioTwO0isoQyN",
        "outputId": "be718a1f-69c5-4b67-e8f7-80fd8f5d41e3"
      },
      "outputs": [
        {
          "output_type": "error",
          "ename": "ModuleNotFoundError",
          "evalue": "No module named 'ace_tools'",
          "traceback": [
            "\u001b[0;31m---------------------------------------------------------------------------\u001b[0m",
            "\u001b[0;31mModuleNotFoundError\u001b[0m                       Traceback (most recent call last)",
            "\u001b[0;32m<ipython-input-2-2bc6d8fd5888>\u001b[0m in \u001b[0;36m<cell line: 7>\u001b[0;34m()\u001b[0m\n\u001b[1;32m      5\u001b[0m \u001b[0;32mfrom\u001b[0m \u001b[0msklearn\u001b[0m\u001b[0;34m.\u001b[0m\u001b[0mensemble\u001b[0m \u001b[0;32mimport\u001b[0m \u001b[0mRandomForestClassifier\u001b[0m\u001b[0;34m\u001b[0m\u001b[0;34m\u001b[0m\u001b[0m\n\u001b[1;32m      6\u001b[0m \u001b[0;32mfrom\u001b[0m \u001b[0msklearn\u001b[0m\u001b[0;34m.\u001b[0m\u001b[0mmetrics\u001b[0m \u001b[0;32mimport\u001b[0m \u001b[0mclassification_report\u001b[0m\u001b[0;34m,\u001b[0m \u001b[0mconfusion_matrix\u001b[0m\u001b[0;34m\u001b[0m\u001b[0;34m\u001b[0m\u001b[0m\n\u001b[0;32m----> 7\u001b[0;31m \u001b[0;32mimport\u001b[0m \u001b[0mace_tools\u001b[0m \u001b[0;32mas\u001b[0m \u001b[0mtools\u001b[0m\u001b[0;34m\u001b[0m\u001b[0;34m\u001b[0m\u001b[0m\n\u001b[0m\u001b[1;32m      8\u001b[0m \u001b[0;34m\u001b[0m\u001b[0m\n\u001b[1;32m      9\u001b[0m \u001b[0;31m# Load the dataset\u001b[0m\u001b[0;34m\u001b[0m\u001b[0;34m\u001b[0m\u001b[0m\n",
            "\u001b[0;31mModuleNotFoundError\u001b[0m: No module named 'ace_tools'",
            "",
            "\u001b[0;31m---------------------------------------------------------------------------\u001b[0;32m\nNOTE: If your import is failing due to a missing package, you can\nmanually install dependencies using either !pip or !apt.\n\nTo view examples of installing some common dependencies, click the\n\"Open Examples\" button below.\n\u001b[0;31m---------------------------------------------------------------------------\u001b[0m\n"
          ],
          "errorDetails": {
            "actions": [
              {
                "action": "open_url",
                "actionText": "Open Examples",
                "url": "/notebooks/snippets/importing_libraries.ipynb"
              }
            ]
          }
        }
      ],
      "source": [
        "import pandas as pd\n",
        "import matplotlib.pyplot as plt\n",
        "import seaborn as sns\n",
        "from sklearn.model_selection import train_test_split\n",
        "from sklearn.ensemble import RandomForestClassifier\n",
        "from sklearn.metrics import classification_report, confusion_matrix\n",
        "import ace_tools as tools\n",
        "\n",
        "# Load the dataset\n",
        "file_path = \"/mnt/data/Final football player dataset.xlsx\"\n",
        "df = pd.read_excel(file_path)\n",
        "\n",
        "# Exploratory Data Analysis (EDA)\n",
        "# Checking basic statistics\n",
        "eda_summary = df.describe()\n",
        "\n",
        "# Visualize correlations between performance metrics and wages\n",
        "plt.figure(figsize=(10, 6))\n",
        "sns.heatmap(df.corr(), annot=True, cmap='coolwarm')\n",
        "plt.title('Correlation Matrix')\n",
        "plt.show()\n",
        "\n",
        "# Histograms of key features\n",
        "df.hist(bins=30, figsize=(15, 10))\n",
        "plt.suptitle('Histograms of Key Features')\n",
        "plt.show()\n",
        "\n",
        "# Data Preparation for the Model\n",
        "# Assuming 'Stay/Look for Option' as the target variable (Needs to be defined in the dataset)\n",
        "df['Target'] = df.apply(lambda row: 1 if row['Performance Metric'] > threshold else 0, axis=1) # Define threshold logic\n",
        "\n",
        "# Selecting features for the model\n",
        "features = ['Performance Metric', 'Wages', 'Age', 'Position Code'] # Adjust features accordingly\n",
        "X = df[features]\n",
        "y = df['Target']\n",
        "\n",
        "# Splitting the dataset into training and testing sets\n",
        "X_train, X_test, y_train, y_test = train_test_split(X, y, test_size=0.2, random_state=42)\n",
        "\n",
        "# Building the model\n",
        "model = RandomForestClassifier(n_estimators=100, random_state=42)\n",
        "model.fit(X_train, y_train)\n",
        "\n",
        "# Predicting and evaluating the model\n",
        "y_pred = model.predict(X_test)\n",
        "\n",
        "# Output evaluation metrics\n",
        "print(\"Classification Report:\\n\", classification_report(y_test, y_pred))\n",
        "print(\"Confusion Matrix:\\n\", confusion_matrix(y_test, y_pred))\n",
        "\n",
        "# Making predictions on the full dataset\n",
        "df['Prediction'] = model.predict(X)\n",
        "\n",
        "# Mapping predictions to human-readable form\n",
        "df['Future'] = df['Prediction'].apply(lambda x: 'Stay' if x == 1 else 'Look for Better Option')\n",
        "\n",
        "# Output to Excel\n",
        "output_df = df[['Player Name', 'Position', 'Team', 'Future']]\n",
        "output_file = \"/mnt/data/Player_Future_Predictions.xlsx\"\n",
        "output_df.to_excel(output_file, index=False)\n",
        "\n",
        "# Display the EDA summary to the user\n",
        "tools.display_dataframe_to_user(name=\"EDA Summary\", dataframe=eda_summary)"
      ]
    }
  ]
}